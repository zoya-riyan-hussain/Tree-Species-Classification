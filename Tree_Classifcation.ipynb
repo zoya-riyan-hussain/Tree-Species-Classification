{
  "nbformat": 4,
  "nbformat_minor": 0,
  "metadata": {
    "colab": {
      "provenance": [],
      "authorship_tag": "ABX9TyNRdqo1b16ryuX58mlDN2R5",
      "include_colab_link": true
    },
    "kernelspec": {
      "name": "python3",
      "display_name": "Python 3"
    },
    "language_info": {
      "name": "python"
    }
  },
  "cells": [
    {
      "cell_type": "markdown",
      "metadata": {
        "id": "view-in-github",
        "colab_type": "text"
      },
      "source": [
        "<a href=\"https://colab.research.google.com/github/zoya-riyan-hussain/Tree-Species-Classification/blob/main/Tree_Classifcation.ipynb\" target=\"_parent\"><img src=\"https://colab.research.google.com/assets/colab-badge.svg\" alt=\"Open In Colab\"/></a>"
      ]
    },
    {
      "cell_type": "code",
      "execution_count": 1,
      "metadata": {
        "colab": {
          "base_uri": "https://localhost:8080/"
        },
        "id": "CQPNhpfsYsnt",
        "outputId": "300a77ec-4b9e-4a32-b928-c23ed5711fd4"
      },
      "outputs": [
        {
          "output_type": "stream",
          "name": "stdout",
          "text": [
            "Path to dataset files: /kaggle/input/tree-species-identification-dataset\n"
          ]
        }
      ],
      "source": [
        "import kagglehub\n",
        "\n",
        "# Download latest version\n",
        "path = kagglehub.dataset_download(\"viditgandhi/tree-species-identification-dataset\")\n",
        "\n",
        "print(\"Path to dataset files:\", path)"
      ]
    },
    {
      "cell_type": "code",
      "source": [
        "# The previous cell already downloaded the dataset using kagglehub\n",
        "# We can use the path obtained from there directly.\n",
        "\n",
        "# Assuming the path variable from the previous cell is still available\n",
        "# If not, you might need to re-run the previous cell or get the path again.\n",
        "dataset_path = path # Using the 'path' variable from the kagglehub download\n",
        "\n",
        "print(f\"Dataset is available at: {dataset_path}\")\n",
        "\n",
        "# You can now use the 'dataset_path' variable to access the dataset files.\n",
        "# For example, to list the contents of the dataset directory:\n",
        "import os\n",
        "print(\"\\nContents of the dataset directory:\")\n",
        "print(os.listdir(dataset_path))"
      ],
      "metadata": {
        "colab": {
          "base_uri": "https://localhost:8080/"
        },
        "id": "TCaqVpBmZabF",
        "outputId": "9847d93e-a9b3-4906-99c5-89c2e0d0da20"
      },
      "execution_count": 6,
      "outputs": [
        {
          "output_type": "stream",
          "name": "stdout",
          "text": [
            "Dataset is available at: /kaggle/input/tree-species-identification-dataset\n",
            "\n",
            "Contents of the dataset directory:\n",
            "['Tree_Species_Dataset']\n"
          ]
        }
      ]
    },
    {
      "cell_type": "code",
      "source": [],
      "metadata": {
        "id": "g8p6pMVWZ6Gm"
      },
      "execution_count": null,
      "outputs": []
    }
  ]
}